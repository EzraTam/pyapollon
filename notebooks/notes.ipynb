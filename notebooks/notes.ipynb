{
 "cells": [
  {
   "cell_type": "code",
   "execution_count": 1,
   "metadata": {},
   "outputs": [],
   "source": [
    "import numpy as np\n",
    "from sklearn.datasets import load_diabetes"
   ]
  },
  {
   "cell_type": "code",
   "execution_count": 2,
   "metadata": {},
   "outputs": [],
   "source": [
    "# Load Data\n",
    "data_set = load_diabetes()\n",
    "X = data_set[\"data\"]\n",
    "y = data_set[\"target\"]\n",
    "data =(X,y)"
   ]
  },
  {
   "cell_type": "markdown",
   "metadata": {},
   "source": [
    "# Test Functions"
   ]
  },
  {
   "cell_type": "code",
   "execution_count": 12,
   "metadata": {},
   "outputs": [],
   "source": [
    "from importlib import reload  # Python 3.4+"
   ]
  },
  {
   "cell_type": "code",
   "execution_count": 163,
   "metadata": {},
   "outputs": [],
   "source": [
    "from sklearn.linear_model import LinearRegression\n",
    "from pyapollon.model_handler import ModelEvaluator\n",
    "\n",
    "import pyapollon\n",
    "reload(model_handler)\n",
    "from pyapollon import model_handler, structure_classes,utils\n",
    "reload(model_handler)\n",
    "from pyapollon.model_handler import ModelEvaluator,RegressionModelEvaluator, ClassificationModelEvaluator\n",
    "from pyapollon.model_handler import MLData"
   ]
  },
  {
   "cell_type": "code",
   "execution_count": 164,
   "metadata": {},
   "outputs": [
    {
     "data": {
      "text/plain": [
       "{'train__rmse': 0.4870378851828491,\n",
       " 'train__mae': 0.4658894792670252,\n",
       " 'train__maxe': 0.9376366632508789,\n",
       " 'train__medae': 0.4398247661692125,\n",
       " 'train__r2': -0.018490786864115316,\n",
       " 'test__rmse': 0.4878705609163251,\n",
       " 'test__mae': 0.4696491835939136,\n",
       " 'test__maxe': 0.8606893053492858,\n",
       " 'test__medae': 0.4377413450148464,\n",
       " 'test__r2': -0.0043109818109383635,\n",
       " 'sub_train__rmse': 0.4819627520898763,\n",
       " 'sub_train__mae': 0.45800484279851655,\n",
       " 'sub_train__maxe': 0.9141069189778674,\n",
       " 'sub_train__medae': 0.4575294459484382,\n",
       " 'sub_train__r2': 0.004455980724771269,\n",
       " 'sub_val__rmse': 0.5120534419532644,\n",
       " 'sub_val__mae': 0.4928708521108101,\n",
       " 'sub_val__maxe': 1.129860841674275,\n",
       " 'sub_val__medae': 0.47257160562796907,\n",
       " 'sub_val__r2': -0.13441361637065308,\n",
       " 'cv__rmse__mean': 0.49209165401645744,\n",
       " 'cv__rmse__std': 0.010458936557828483,\n",
       " 'cv__mae__mean': 0.4700584809704521,\n",
       " 'cv__mae__std': 0.011743626315246291,\n",
       " 'cv__maxe__mean': 0.8978195756144183,\n",
       " 'cv__maxe__std': 0.13828924465615916,\n",
       " 'cv__medae__mean': 0.4412019632459544,\n",
       " 'cv__medae__std': 0.017833707004391585,\n",
       " 'cv__r2__mean': -0.043294635968021036,\n",
       " 'cv__r2__std': 0.05340033116448831}"
      ]
     },
     "execution_count": 164,
     "metadata": {},
     "output_type": "execute_result"
    }
   ],
   "source": [
    "params={\"model__fit_intercept\": False,\"model__positive\" : True}\n",
    "EvaluateModel = RegressionModelEvaluator(data=data,params=params,model=LinearRegression,random_state=30)\n",
    "EvaluateModel.model\n",
    "EvaluateModel.train_model()\n",
    "EvaluateModel.evaluate_with_validation()\n",
    "EvaluateModel.evaluate_with_cv()\n",
    "EvaluateModel.metrics_performance"
   ]
  },
  {
   "cell_type": "code",
   "execution_count": 169,
   "metadata": {},
   "outputs": [],
   "source": [
    "from pyapollon import model_handler, structure_classes,utils\n",
    "reload(model_handler)\n",
    "from pyapollon.model_handler import ModelEvaluator,RegressionModelEvaluator, ClassificationModelEvaluator\n",
    "from pyapollon.model_handler import MLData"
   ]
  },
  {
   "cell_type": "code",
   "execution_count": 170,
   "metadata": {},
   "outputs": [],
   "source": [
    "from sklearn.datasets import load_breast_cancer\n",
    "\n",
    "# Load Data\n",
    "data_set = load_breast_cancer()\n",
    "X = data_set[\"data\"]\n",
    "y = data_set[\"target\"]\n",
    "data =(X,y)"
   ]
  },
  {
   "cell_type": "code",
   "execution_count": 173,
   "metadata": {},
   "outputs": [],
   "source": [
    "from sklearn.metrics import (accuracy_score,precision_score,recall_score,f1_score,roc_auc_score)"
   ]
  },
  {
   "cell_type": "code",
   "execution_count": 178,
   "metadata": {},
   "outputs": [
    {
     "name": "stderr",
     "output_type": "stream",
     "text": [
      "/Users/ezratampubolon/PythonProjects/pyapollon/.venv/lib/python3.10/site-packages/sklearn/linear_model/_logistic.py:469: ConvergenceWarning: lbfgs failed to converge (status=1):\n",
      "STOP: TOTAL NO. of ITERATIONS REACHED LIMIT.\n",
      "\n",
      "Increase the number of iterations (max_iter) or scale the data as shown in:\n",
      "    https://scikit-learn.org/stable/modules/preprocessing.html\n",
      "Please also refer to the documentation for alternative solver options:\n",
      "    https://scikit-learn.org/stable/modules/linear_model.html#logistic-regression\n",
      "  n_iter_i = _check_optimize_result(\n",
      "/Users/ezratampubolon/PythonProjects/pyapollon/.venv/lib/python3.10/site-packages/sklearn/linear_model/_logistic.py:469: ConvergenceWarning: lbfgs failed to converge (status=1):\n",
      "STOP: TOTAL NO. of ITERATIONS REACHED LIMIT.\n",
      "\n",
      "Increase the number of iterations (max_iter) or scale the data as shown in:\n",
      "    https://scikit-learn.org/stable/modules/preprocessing.html\n",
      "Please also refer to the documentation for alternative solver options:\n",
      "    https://scikit-learn.org/stable/modules/linear_model.html#logistic-regression\n",
      "  n_iter_i = _check_optimize_result(\n",
      "/Users/ezratampubolon/PythonProjects/pyapollon/.venv/lib/python3.10/site-packages/sklearn/linear_model/_logistic.py:469: ConvergenceWarning: lbfgs failed to converge (status=1):\n",
      "STOP: TOTAL NO. of ITERATIONS REACHED LIMIT.\n",
      "\n",
      "Increase the number of iterations (max_iter) or scale the data as shown in:\n",
      "    https://scikit-learn.org/stable/modules/preprocessing.html\n",
      "Please also refer to the documentation for alternative solver options:\n",
      "    https://scikit-learn.org/stable/modules/linear_model.html#logistic-regression\n",
      "  n_iter_i = _check_optimize_result(\n",
      "/Users/ezratampubolon/PythonProjects/pyapollon/.venv/lib/python3.10/site-packages/sklearn/linear_model/_logistic.py:469: ConvergenceWarning: lbfgs failed to converge (status=1):\n",
      "STOP: TOTAL NO. of ITERATIONS REACHED LIMIT.\n",
      "\n",
      "Increase the number of iterations (max_iter) or scale the data as shown in:\n",
      "    https://scikit-learn.org/stable/modules/preprocessing.html\n",
      "Please also refer to the documentation for alternative solver options:\n",
      "    https://scikit-learn.org/stable/modules/linear_model.html#logistic-regression\n",
      "  n_iter_i = _check_optimize_result(\n",
      "/Users/ezratampubolon/PythonProjects/pyapollon/.venv/lib/python3.10/site-packages/sklearn/linear_model/_logistic.py:469: ConvergenceWarning: lbfgs failed to converge (status=1):\n",
      "STOP: TOTAL NO. of ITERATIONS REACHED LIMIT.\n",
      "\n",
      "Increase the number of iterations (max_iter) or scale the data as shown in:\n",
      "    https://scikit-learn.org/stable/modules/preprocessing.html\n",
      "Please also refer to the documentation for alternative solver options:\n",
      "    https://scikit-learn.org/stable/modules/linear_model.html#logistic-regression\n",
      "  n_iter_i = _check_optimize_result(\n",
      "/Users/ezratampubolon/PythonProjects/pyapollon/.venv/lib/python3.10/site-packages/sklearn/linear_model/_logistic.py:469: ConvergenceWarning: lbfgs failed to converge (status=1):\n",
      "STOP: TOTAL NO. of ITERATIONS REACHED LIMIT.\n",
      "\n",
      "Increase the number of iterations (max_iter) or scale the data as shown in:\n",
      "    https://scikit-learn.org/stable/modules/preprocessing.html\n",
      "Please also refer to the documentation for alternative solver options:\n",
      "    https://scikit-learn.org/stable/modules/linear_model.html#logistic-regression\n",
      "  n_iter_i = _check_optimize_result(\n",
      "/Users/ezratampubolon/PythonProjects/pyapollon/.venv/lib/python3.10/site-packages/sklearn/linear_model/_logistic.py:469: ConvergenceWarning: lbfgs failed to converge (status=1):\n",
      "STOP: TOTAL NO. of ITERATIONS REACHED LIMIT.\n",
      "\n",
      "Increase the number of iterations (max_iter) or scale the data as shown in:\n",
      "    https://scikit-learn.org/stable/modules/preprocessing.html\n",
      "Please also refer to the documentation for alternative solver options:\n",
      "    https://scikit-learn.org/stable/modules/linear_model.html#logistic-regression\n",
      "  n_iter_i = _check_optimize_result(\n"
     ]
    },
    {
     "data": {
      "text/plain": [
       "{'train__accuracy': 0.9714285714285714,\n",
       " 'train__precision': 0.9790209790209791,\n",
       " 'train__recall': 0.975609756097561,\n",
       " 'train__f1': 0.9773123909249564,\n",
       " 'train__aucroc': 0.9956238592998174,\n",
       " 'test__accuracy': 0.9035087719298246,\n",
       " 'test__precision': 0.9154929577464789,\n",
       " 'test__recall': 0.9285714285714286,\n",
       " 'test__f1': 0.9219858156028369,\n",
       " 'test__aucroc': 0.9863636363636363,\n",
       " 'sub_train__accuracy': 0.9835164835164835,\n",
       " 'sub_train__precision': 0.9868995633187773,\n",
       " 'sub_train__recall': 0.9868995633187773,\n",
       " 'sub_train__f1': 0.9868995633187773,\n",
       " 'sub_train__aucroc': 0.9965388969755783,\n",
       " 'sub_val__accuracy': 0.9340659340659341,\n",
       " 'sub_val__precision': 0.9333333333333333,\n",
       " 'sub_val__recall': 0.9655172413793104,\n",
       " 'sub_val__f1': 0.9491525423728814,\n",
       " 'sub_val__aucroc': 0.9655172413793103,\n",
       " 'cv__accuracy__mean': 0.956043956043956,\n",
       " 'cv__accuracy__std': 0.013900121583157714,\n",
       " 'cv__precision__mean': 0.9525891291642316,\n",
       " 'cv__precision__std': 0.012381544511642816,\n",
       " 'cv__recall__mean': 0.9797586107722669,\n",
       " 'cv__recall__std': 0.01932347335975481,\n",
       " 'cv__f1__mean': 0.965821528542689,\n",
       " 'cv__f1__std': 0.010178886441392258,\n",
       " 'cv__aucroc__mean': 0.9890243197876627,\n",
       " 'cv__aucroc__std': 0.0132055984335168}"
      ]
     },
     "execution_count": 178,
     "metadata": {},
     "output_type": "execute_result"
    }
   ],
   "source": [
    "params={\"model__penalty\": \"l2\",\"model__max_iter\":500}\n",
    "EvaluateModel = ClassificationModelEvaluator(data=data,params=params,model=LogisticRegression,random_state=30)\n",
    "EvaluateModel.model\n",
    "EvaluateModel.train_model()\n",
    "EvaluateModel.evaluate_with_validation()\n",
    "EvaluateModel.evaluate_with_cv()\n",
    "EvaluateModel.metrics_performance"
   ]
  }
 ],
 "metadata": {
  "kernelspec": {
   "display_name": ".venv",
   "language": "python",
   "name": "python3"
  },
  "language_info": {
   "codemirror_mode": {
    "name": "ipython",
    "version": 3
   },
   "file_extension": ".py",
   "mimetype": "text/x-python",
   "name": "python",
   "nbconvert_exporter": "python",
   "pygments_lexer": "ipython3",
   "version": "3.10.8"
  }
 },
 "nbformat": 4,
 "nbformat_minor": 2
}
